{
 "cells": [
  {
   "cell_type": "code",
   "execution_count": 1,
   "id": "artificial-neighbor",
   "metadata": {},
   "outputs": [],
   "source": [
    "import numpy as np"
   ]
  },
  {
   "cell_type": "code",
   "execution_count": 25,
   "id": "educational-community",
   "metadata": {},
   "outputs": [],
   "source": [
    "X = np.random.random((10, 3))"
   ]
  },
  {
   "cell_type": "code",
   "execution_count": 26,
   "id": "disturbed-longer",
   "metadata": {},
   "outputs": [
    {
     "data": {
      "text/plain": [
       "array([[0.50582775, 0.49217474, 0.91805235],\n",
       "       [0.41475947, 0.13218041, 0.42132889],\n",
       "       [0.41190367, 0.90674228, 0.77187894],\n",
       "       [0.74809596, 0.31380248, 0.79749731],\n",
       "       [0.05539872, 0.90848913, 0.66673808],\n",
       "       [0.59004992, 0.42477464, 0.87756064],\n",
       "       [0.44036232, 0.01221225, 0.21298723],\n",
       "       [0.92549976, 0.64937951, 0.37726458],\n",
       "       [0.73705479, 0.28657635, 0.64132732],\n",
       "       [0.36681553, 0.01465405, 0.94955904]])"
      ]
     },
     "execution_count": 26,
     "metadata": {},
     "output_type": "execute_result"
    }
   ],
   "source": [
    "X"
   ]
  },
  {
   "cell_type": "code",
   "execution_count": 27,
   "id": "brilliant-sender",
   "metadata": {},
   "outputs": [
    {
     "data": {
      "text/plain": [
       "array([0.51957679, 0.41409858, 0.66341944])"
      ]
     },
     "execution_count": 27,
     "metadata": {},
     "output_type": "execute_result"
    }
   ],
   "source": [
    "X.mean(0)"
   ]
  },
  {
   "cell_type": "markdown",
   "id": "rolled-techno",
   "metadata": {},
   "source": [
    "El 0 indica que se va a hacer por columnas"
   ]
  },
  {
   "cell_type": "code",
   "execution_count": 28,
   "id": "several-gospel",
   "metadata": {},
   "outputs": [
    {
     "data": {
      "text/plain": [
       "array([0.63868495, 0.32275626, 0.69684163, 0.61979858, 0.54354198,\n",
       "       0.63079507, 0.22185393, 0.65071462, 0.55498615, 0.44367621])"
      ]
     },
     "execution_count": 28,
     "metadata": {},
     "output_type": "execute_result"
    }
   ],
   "source": [
    "X.mean(1)"
   ]
  },
  {
   "cell_type": "markdown",
   "id": "skilled-jurisdiction",
   "metadata": {},
   "source": [
    "El 1 te hace la media de cada fila"
   ]
  },
  {
   "cell_type": "code",
   "execution_count": 29,
   "id": "stopped-costume",
   "metadata": {},
   "outputs": [],
   "source": [
    "Xmean = X.mean(0)"
   ]
  },
  {
   "cell_type": "code",
   "execution_count": 30,
   "id": "loaded-region",
   "metadata": {},
   "outputs": [],
   "source": [
    "X_centered = X - Xmean"
   ]
  },
  {
   "cell_type": "code",
   "execution_count": 31,
   "id": "global-involvement",
   "metadata": {},
   "outputs": [
    {
     "data": {
      "text/plain": [
       "array([[-0.01374904,  0.07807615,  0.25463292],\n",
       "       [-0.10481732, -0.28191818, -0.24209055],\n",
       "       [-0.10767312,  0.49264369,  0.1084595 ],\n",
       "       [ 0.22851918, -0.10029611,  0.13407787],\n",
       "       [-0.46417807,  0.49439055,  0.00331864],\n",
       "       [ 0.07047313,  0.01067606,  0.2141412 ],\n",
       "       [-0.07921447, -0.40188634, -0.45043221],\n",
       "       [ 0.40592298,  0.23528093, -0.28615486],\n",
       "       [ 0.217478  , -0.12752223, -0.02209212],\n",
       "       [-0.15276126, -0.39944454,  0.28613961]])"
      ]
     },
     "execution_count": 31,
     "metadata": {},
     "output_type": "execute_result"
    }
   ],
   "source": [
    "X_centered"
   ]
  },
  {
   "cell_type": "code",
   "execution_count": 32,
   "id": "virtual-shark",
   "metadata": {},
   "outputs": [
    {
     "data": {
      "text/plain": [
       "array([-1.11022302e-17,  3.33066907e-17,  0.00000000e+00])"
      ]
     },
     "execution_count": 32,
     "metadata": {},
     "output_type": "execute_result"
    }
   ],
   "source": [
    "X_centered.mean(0)"
   ]
  },
  {
   "cell_type": "markdown",
   "id": "associate-aging",
   "metadata": {},
   "source": [
    "### Images"
   ]
  },
  {
   "cell_type": "code",
   "execution_count": 33,
   "id": "incorporated-melissa",
   "metadata": {},
   "outputs": [],
   "source": [
    "x = np.linspace(0, 5, 50)\n",
    "y = np.linspace(0, 5, 50)[:, np.newaxis]"
   ]
  },
  {
   "cell_type": "code",
   "execution_count": 37,
   "id": "narrative-armenia",
   "metadata": {},
   "outputs": [],
   "source": [
    "z = np.sin(x) ** 10 + np.cos(10 + y * x) * np.cos(x)"
   ]
  },
  {
   "cell_type": "code",
   "execution_count": null,
   "id": "retired-decrease",
   "metadata": {},
   "outputs": [],
   "source": [
    "%matplotlib inline\n",
    "import matplotlib"
   ]
  }
 ],
 "metadata": {
  "kernelspec": {
   "display_name": "Python 3",
   "language": "python",
   "name": "python3"
  },
  "language_info": {
   "codemirror_mode": {
    "name": "ipython",
    "version": 3
   },
   "file_extension": ".py",
   "mimetype": "text/x-python",
   "name": "python",
   "nbconvert_exporter": "python",
   "pygments_lexer": "ipython3",
   "version": "3.8.5"
  }
 },
 "nbformat": 4,
 "nbformat_minor": 5
}
