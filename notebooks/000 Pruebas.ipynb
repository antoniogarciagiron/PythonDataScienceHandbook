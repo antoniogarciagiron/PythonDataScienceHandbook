{
 "cells": [
  {
   "cell_type": "code",
   "execution_count": 1,
   "id": "tired-stockholm",
   "metadata": {},
   "outputs": [],
   "source": [
    "import numpy as np"
   ]
  },
  {
   "cell_type": "code",
   "execution_count": 25,
   "id": "located-mainland",
   "metadata": {},
   "outputs": [],
   "source": [
    "X = np.random.random((10, 3))"
   ]
  },
  {
   "cell_type": "code",
   "execution_count": 26,
   "id": "civic-stand",
   "metadata": {},
   "outputs": [
    {
     "data": {
      "text/plain": [
       "array([[0.50582775, 0.49217474, 0.91805235],\n",
       "       [0.41475947, 0.13218041, 0.42132889],\n",
       "       [0.41190367, 0.90674228, 0.77187894],\n",
       "       [0.74809596, 0.31380248, 0.79749731],\n",
       "       [0.05539872, 0.90848913, 0.66673808],\n",
       "       [0.59004992, 0.42477464, 0.87756064],\n",
       "       [0.44036232, 0.01221225, 0.21298723],\n",
       "       [0.92549976, 0.64937951, 0.37726458],\n",
       "       [0.73705479, 0.28657635, 0.64132732],\n",
       "       [0.36681553, 0.01465405, 0.94955904]])"
      ]
     },
     "execution_count": 26,
     "metadata": {},
     "output_type": "execute_result"
    }
   ],
   "source": [
    "X"
   ]
  },
  {
   "cell_type": "code",
   "execution_count": null,
   "id": "approved-tomorrow",
   "metadata": {},
   "outputs": [],
   "source": []
  }
 ],
 "metadata": {
  "kernelspec": {
   "display_name": "Python 3",
   "language": "python",
   "name": "python3"
  },
  "language_info": {
   "codemirror_mode": {
    "name": "ipython",
    "version": 3
   },
   "file_extension": ".py",
   "mimetype": "text/x-python",
   "name": "python",
   "nbconvert_exporter": "python",
   "pygments_lexer": "ipython3",
   "version": "3.8.5"
  }
 },
 "nbformat": 4,
 "nbformat_minor": 5
}
